{
  "nbformat": 4,
  "nbformat_minor": 0,
  "metadata": {
    "colab": {
      "name": "AudioClassifier.ipynb",
      "provenance": [],
      "collapsed_sections": [
        "R8l27ZA0VAYy",
        "0aaWx_GSVDZf"
      ]
    },
    "kernelspec": {
      "display_name": "Python 3",
      "name": "python3"
    },
    "language_info": {
      "name": "python"
    },
    "accelerator": "GPU"
  },
  "cells": [
    {
      "cell_type": "markdown",
      "metadata": {
        "id": "UrtaNBW-jkIb"
      },
      "source": [
        "# Download Data"
      ]
    },
    {
      "cell_type": "code",
      "metadata": {
        "id": "FeVNDLhbW85L"
      },
      "source": [
        "! wget https://cloudstor.aarnet.edu.au/plus/s/sXfWoQZ2CFbPzo0/download?path=%2F&files=annotatedLibrary.zip"
      ],
      "execution_count": null,
      "outputs": []
    },
    {
      "cell_type": "code",
      "metadata": {
        "id": "LX16htq8XALa"
      },
      "source": [
        "! unzip /content/download?path=%2F\n",
        "! rm /content/download?path=%2F"
      ],
      "execution_count": null,
      "outputs": []
    },
    {
      "cell_type": "code",
      "metadata": {
        "id": "LdF1cMw9XF4q"
      },
      "source": [
        "! mv /content/annotatedLibrary/annotatedLibrary.zip .\n",
        "! rm -r /content/annotatedLibrary/"
      ],
      "execution_count": null,
      "outputs": []
    },
    {
      "cell_type": "code",
      "metadata": {
        "id": "kulSxva6XBkt"
      },
      "source": [
        "! unzip /content/annotatedLibrary.zip\n",
        "! rm /content/annotatedLibrary.zip"
      ],
      "execution_count": null,
      "outputs": []
    },
    {
      "cell_type": "code",
      "metadata": {
        "id": "esxsEAeeGB6n",
        "colab": {
          "base_uri": "https://localhost:8080/"
        },
        "outputId": "f017b651-a81b-4eb5-971d-75d686dfd816"
      },
      "source": [
        "from google.colab import drive\n",
        "drive.mount('/content/drive')"
      ],
      "execution_count": 4,
      "outputs": [
        {
          "output_type": "stream",
          "text": [
            "Drive already mounted at /content/drive; to attempt to forcibly remount, call drive.mount(\"/content/drive\", force_remount=True).\n"
          ],
          "name": "stdout"
        }
      ]
    },
    {
      "cell_type": "code",
      "metadata": {
        "id": "UOM7kGZCXNM6"
      },
      "source": [
        "! mv /content/annotatedLibrary /content/drive/MyDrive/Projects/Data"
      ],
      "execution_count": null,
      "outputs": []
    },
    {
      "cell_type": "markdown",
      "metadata": {
        "id": "IZuWegL2W68E"
      },
      "source": [
        "# Prepare data"
      ]
    },
    {
      "cell_type": "code",
      "metadata": {
        "id": "DVfMJ5Nx5hwt"
      },
      "source": [
        "### Load necessary libraries ###\n",
        "import glob\n",
        "import os\n",
        "from tqdm import tqdm\n",
        "\n",
        "import numpy as np\n",
        "import pandas as pd\n",
        "\n",
        "import matplotlib.pyplot as plt\n",
        "from matplotlib.pyplot import specgram\n",
        "import librosa\n",
        "import librosa.display\n",
        "\n",
        "import torch\n",
        "import torch.nn as nn\n",
        "from torchvision import models\n",
        "from torch.utils.data import Dataset, DataLoader\n",
        "import torch.optim as optim"
      ],
      "execution_count": 9,
      "outputs": []
    },
    {
      "cell_type": "code",
      "metadata": {
        "id": "r1FXYdmle-fl"
      },
      "source": [
        "import numpy as np\n",
        "np.load.__defaults__=(None, False, True, 'ASCII')\n",
        "np_load_old = np.load\n",
        "loadnpz = lambda *a,**k: np_load_old(*a,allow_pickle=True)"
      ],
      "execution_count": 10,
      "outputs": []
    },
    {
      "cell_type": "code",
      "metadata": {
        "id": "9bXRSvBz5fn4"
      },
      "source": [
        "### Define helper functions ###\n",
        "def load_sound_files(file_paths):\n",
        "    raw_sounds = []\n",
        "    for fp in file_paths:\n",
        "        X,sr = librosa.load(fp, sr=250)\n",
        "        raw_sounds.append(X)\n",
        "    return raw_sounds\n",
        "\n",
        "def plot_waves(sound_names,raw_sounds):\n",
        "    i = 1\n",
        "    fig = plt.figure(figsize=(15,6))\n",
        "    for n,f in zip(sound_names,raw_sounds):\n",
        "        plt.subplot(10,1,i)\n",
        "        librosa.display.waveplot(np.array(f),sr=22050)\n",
        "        plt.title(n.title())\n",
        "        i += 1\n",
        "    plt.suptitle('Figure 1: Waveplot',x=0.5, y=0.915,fontsize=18)\n",
        "    plt.show()\n",
        "\n",
        "def plot_specgram(sound_names,raw_sounds):\n",
        "    i = 1\n",
        "    fig = plt.figure(figsize=(15,6))\n",
        "    for n,f in zip(sound_names,raw_sounds):\n",
        "        plt.subplot(len(sound_names),1,i)\n",
        "        specgram(np.array(f), Fs=250)\n",
        "        plt.title(n.title())\n",
        "        i += 1\n",
        "    plt.suptitle('Figure 2: Spectrogram',x=0.5, y=0.915,fontsize=18)\n",
        "    plt.show()\n",
        "\n",
        "def plot_log_power_specgram(sound_names,raw_sounds):\n",
        "    i = 1\n",
        "    fig = plt.figure(figsize=(15,6))\n",
        "    for n,f in zip(sound_names,raw_sounds):\n",
        "        plt.subplot(10,1,i)\n",
        "        D = librosa.logamplitude(np.abs(librosa.stft(f))**2, ref_power=np.max)\n",
        "        librosa.display.specshow(D,x_axis='time' ,y_axis='log')\n",
        "        plt.title(n.title())\n",
        "        i += 1\n",
        "    plt.suptitle('Figure 3: Log power spectrogram',x=0.5, y=0.915,fontsize=18)\n",
        "    plt.show()"
      ],
      "execution_count": 11,
      "outputs": []
    },
    {
      "cell_type": "code",
      "metadata": {
        "id": "sCF8bXgea0gx"
      },
      "source": [
        "class Path:\n",
        "    def __init__(self, parent):\n",
        "        self.working_folder = parent\n",
        "\n",
        "    def get(self, sub):\n",
        "        sub_f = os.path.join(self.working_folder, sub)\n",
        "        if os.path.exists(sub_f):\n",
        "            return sub_f\n",
        "        raise Exception(f\"No such folder or file with the name {sub} in {self.working_folder}\")\n",
        "\n",
        "    def endswith(self, folder, suff):\n",
        "        subfolder = self.get(folder)\n",
        "        subdirs = os.listdir(subfolder)\n",
        "        files = []      \n",
        "        for sub in subdirs:\n",
        "            sub_f = os.path.join(subfolder, sub)\n",
        "            if sub_f.endswith(suff) and os.path.isfile(sub_f):\n",
        "                files.append(sub_f)\n",
        "        return files"
      ],
      "execution_count": 12,
      "outputs": []
    },
    {
      "cell_type": "code",
      "metadata": {
        "id": "beMESnCZbs-m"
      },
      "source": [
        "work = Path('/content/drive/MyDrive/Projects/Data/annotatedLibrary')\n",
        "\n",
        "folders = [\n",
        "    'BallenyIslands2015',\n",
        "    'ElephantIsland2013Aural',\n",
        "    'ElephantIsland2014',\n",
        "    'Greenwich64S2015',\n",
        "    'MaudRise2014',\n",
        "    'RossSea2014',\n",
        "    'casey2014',\n",
        "    'casey2017',\n",
        "    'kerguelen2005',\n",
        "    'kerguelen2014',\n",
        "    'kerguelen2015'\n",
        "]\n",
        "\n",
        "save_dir = 'processed/third'"
      ],
      "execution_count": 13,
      "outputs": []
    },
    {
      "cell_type": "markdown",
      "metadata": {
        "id": "R8l27ZA0VAYy"
      },
      "source": [
        "## Data augmentation"
      ]
    },
    {
      "cell_type": "code",
      "metadata": {
        "id": "919t-UNLbMgo"
      },
      "source": [
        "def augment_noise(wav):\n",
        "    wav = wav + 0.009 * np.random.normal(0,1,len(wav))\n",
        "    return wav\n",
        "\n",
        "def augment_time(wav, factor=.4):\n",
        "    wav = librosa.effects.time_stretch(wav, factor)\n",
        "    return wav"
      ],
      "execution_count": 24,
      "outputs": []
    },
    {
      "cell_type": "code",
      "metadata": {
        "colab": {
          "base_uri": "https://localhost:8080/",
          "height": 105
        },
        "id": "uTFxvikUcBjS",
        "outputId": "9e0807cf-30dd-4aa4-9ada-677adc64fae4"
      },
      "source": [
        "wav = load_sound_files(['/content/drive/MyDrive/Projects/Data/annotatedLibrary/ElephantIsland2013Aural/wav/20130112_130000_AWI251-01_AU0231_250Hz.wav'])[0]\n",
        "plot_waves([\"\"], [wav])"
      ],
      "execution_count": 22,
      "outputs": [
        {
          "output_type": "display_data",
          "data": {
            "image/png": "[encoded data removed]",
            "text/plain": [
              "<Figure size 1080x432 with 1 Axes>"
            ]
          },
          "metadata": {
            "tags": [],
            "needs_background": "light"
          }
        }
      ]
    },
    {
      "cell_type": "code",
      "metadata": {
        "colab": {
          "base_uri": "https://localhost:8080/",
          "height": 105
        },
        "id": "XMSvvOTpcXfL",
        "outputId": "7ecd21b0-9721-4363-c414-e9d80aa80731"
      },
      "source": [
        "wav1 = augment_noise(wav)\n",
        "plot_waves([\"\"], [wav1])"
      ],
      "execution_count": 25,
      "outputs": [
        {
          "output_type": "display_data",
          "data": {
            "image/png": "[encoded data removed]",
            "text/plain": [
              "<Figure size 1080x432 with 1 Axes>"
            ]
          },
          "metadata": {
            "tags": [],
            "needs_background": "light"
          }
        }
      ]
    },
    {
      "cell_type": "code",
      "metadata": {
        "colab": {
          "base_uri": "https://localhost:8080/",
          "height": 105
        },
        "id": "UZ1k0f-odOFw",
        "outputId": "975f5e21-7a9a-4bc6-93be-1ff602963c3d"
      },
      "source": [
        "wav2 = augment_time(wav)\n",
        "plot_waves([\"\"], [wav2])"
      ],
      "execution_count": 26,
      "outputs": [
        {
          "output_type": "display_data",
          "data": {
            "image/png": "[encoded data removed]",
            "text/plain": [
              "<Figure size 1080x432 with 1 Axes>"
            ]
          },
          "metadata": {
            "tags": [],
            "needs_background": "light"
          }
        }
      ]
    },
    {
      "cell_type": "markdown",
      "metadata": {
        "id": "0aaWx_GSVDZf"
      },
      "source": [
        "## Features Extraction"
      ]
    },
    {
      "cell_type": "code",
      "metadata": {
        "id": "NB-6X6v-kahW"
      },
      "source": [
        "def parse_audio_files(dir,file_ext='*.wav'):\n",
        "    print(f'Parsing: {dir}')\n",
        "    meta = os.path.join(dir, 'meta.xlsx')\n",
        "    wavf = os.path.join(dir, 'wav/')\n",
        "\n",
        "    df = pd.read_excel(meta, engine='openpyxl')\n",
        "    df = df[:100]\n",
        "    files = list(df['wavFileName'])[:100]\n",
        "    df = df[['Bm Ant-A', 'Bm Ant-B', 'Bm Ant-Z', 'BlueFM', 'Bp Downsweep', 'Bp 20Hz', 'Bp Higher_calls', 'Unidentified']]\n",
        "\n",
        "    df = df.fillna(0)\n",
        "    df['Bm Ant-A'] = df['Bm Ant-A'].astype(float) \n",
        "    df['Bm Ant-B'] = df['Bm Ant-B'].astype(float) \n",
        "    df['Bm Ant-Z'] = df['Bm Ant-Z'].astype(float) \n",
        "    df['BlueFM'] = df['BlueFM'].astype(float) \n",
        "    df['Bp Downsweep'] = df['Bp Downsweep'].astype(float) \n",
        "    df['Bp 20Hz'] = df['Bp 20Hz'].astype(float) \n",
        "    df['Bp Higher_calls'] = df['Bp Higher_calls'].astype(float) \n",
        "    df['Unidentified'] = df['Unidentified'].astype(float)\n",
        "\n",
        "    train_data = []\n",
        "    for f in tqdm(files):\n",
        "        if (f.endswith('.wav') or f.endswith('.WAV')):\n",
        "            f = os.path.join(wavf, f)\n",
        "        else:\n",
        "            f = os.path.join(wavf, f+'.wav')\n",
        "        if os.path.isfile(f):\n",
        "            y, sr = librosa.load(f, sr=250)\n",
        "            # get the magnitudes\n",
        "            D = np.abs(librosa.stft(y, n_fft=512))  # use 4096 as window length\n",
        "            data = librosa.feature.melspectrogram(S=D, n_fft=512, hop_length=256)\n",
        "            train_data.append(data)\n",
        "        else:\n",
        "            raise Exception(\"Couldn't find: \", f)\n",
        "    df = df.assign(Data=train_data)\n",
        "    \n",
        "    new_order = [8,0,1,2,3,4,5,6,7]\n",
        "    df = df[df.columns[new_order]]\n",
        "\n",
        "    df['Label'] = df[['Bm Ant-A', 'Bm Ant-B', 'Bm Ant-Z', 'BlueFM', 'Bp Downsweep', 'Bp 20Hz', 'Bp Higher_calls', 'Unidentified']].values.tolist()\n",
        "    \n",
        "    return df['Data'].to_numpy(), df['Label'].to_numpy()"
      ],
      "execution_count": 5,
      "outputs": []
    },
    {
      "cell_type": "code",
      "metadata": {
        "id": "p9yfznTMj9eJ",
        "colab": {
          "base_uri": "https://localhost:8080/"
        },
        "outputId": "9f070328-977d-4c2c-c0a9-7b10dc945366"
      },
      "source": [
        "for sub_dir in folders:\n",
        "    features, labels = parse_audio_files(work.get(sub_dir))\n",
        "    np.savez(work.get(save_dir)+'/'+sub_dir, features=features, labels=labels)"
      ],
      "execution_count": 9,
      "outputs": [
        {
          "output_type": "stream",
          "text": [
            "Parsing: /content/drive/MyDrive/Projects/Data/annotatedLibrary/BallenyIslands2015\n"
          ],
          "name": "stdout"
        },
        {
          "output_type": "stream",
          "text": [
            "100%|██████████| 100/100 [06:19<00:00,  3.80s/it]\n"
          ],
          "name": "stderr"
        },
        {
          "output_type": "stream",
          "text": [
            "Parsing: /content/drive/MyDrive/Projects/Data/annotatedLibrary/ElephantIsland2013Aural\n"
          ],
          "name": "stdout"
        },
        {
          "output_type": "stream",
          "text": [
            "100%|██████████| 100/100 [01:30<00:00,  1.11it/s]\n"
          ],
          "name": "stderr"
        }
      ]
    },
    {
      "cell_type": "markdown",
      "metadata": {
        "id": "mfQ1CH_DVQ1o"
      },
      "source": [
        "## Preparing data for the model"
      ]
    },
    {
      "cell_type": "code",
      "metadata": {
        "id": "V_x71yzO4a6-",
        "colab": {
          "base_uri": "https://localhost:8080/"
        },
        "outputId": "9684fe3c-9ea6-440e-a572-3181d5940538"
      },
      "source": [
        "features = []\n",
        "labels = []\n",
        "for sub in folders:\n",
        "    print(sub)\n",
        "    x = loadnpz(work.get(save_dir)+'/'+sub+'.npz')\n",
        "    t = x['features']\n",
        "    for i in range(len(t)):\n",
        "        pl = 7033 - t[i].shape[1]\n",
        "        # pad short arrays with zeros\n",
        "        tl = np.pad(t[i], ((0,0), (0,pl)), constant_values=(0))\n",
        "        features.append(tl.reshape((1,*tl.shape)))\n",
        "        labels.append(np.array(x['labels'][i]))"
      ],
      "execution_count": 22,
      "outputs": [
        {
          "output_type": "stream",
          "text": [
            "BallenyIslands2015\n",
            "ElephantIsland2013Aural\n",
            "ElephantIsland2014\n",
            "Greenwich64S2015\n",
            "MaudRise2014\n",
            "RossSea2014\n",
            "casey2014\n",
            "casey2017\n",
            "kerguelen2005\n",
            "kerguelen2014\n",
            "kerguelen2015\n"
          ],
          "name": "stdout"
        }
      ]
    },
    {
      "cell_type": "code",
      "metadata": {
        "id": "qOgQUMx2oOVr",
        "colab": {
          "base_uri": "https://localhost:8080/"
        },
        "outputId": "7761f22a-be96-48c3-806f-cd67c1801118"
      },
      "source": [
        "features = np.stack(features)\n",
        "labels = np.stack(labels)\n",
        "\n",
        "(features.shape, labels.shape)"
      ],
      "execution_count": 23,
      "outputs": [
        {
          "output_type": "execute_result",
          "data": {
            "text/plain": [
              "((1100, 1, 128, 7033), (1100, 8))"
            ]
          },
          "metadata": {
            "tags": []
          },
          "execution_count": 23
        }
      ]
    },
    {
      "cell_type": "code",
      "metadata": {
        "id": "WxXjw4rOAE_m"
      },
      "source": [
        "class WhaleData(Dataset):\n",
        "    def __init__(self, features, labels):\n",
        "        self.features = features\n",
        "        self.labels   = labels\n",
        "\n",
        "    def __len__(self):\n",
        "        assert len(self.features) == len(self.labels), \"Fetaures length doesn't match labels length\"\n",
        "        return len(self.features)\n",
        "\n",
        "    def __getitem__(self, idx):\n",
        "        spec_tensor = torch.tensor(self.features[idx])\n",
        "        spec_label = torch.tensor(self.labels[idx])\n",
        "        return spec_tensor, spec_label"
      ],
      "execution_count": 24,
      "outputs": []
    },
    {
      "cell_type": "code",
      "metadata": {
        "id": "m0WWRkyMAE79"
      },
      "source": [
        "dataset = WhaleData(features, labels)\n",
        "\n",
        "train_size = int(0.8 * len(dataset))\n",
        "test_size = len(dataset) - train_size\n",
        "train_set, test_set = torch.utils.data.random_split(dataset, [train_size, test_size])\n",
        "\n",
        "train_loader = torch.utils.data.DataLoader(train_set, shuffle=True, batch_size=10)\n",
        "test_loader = torch.utils.data.DataLoader(test_set, shuffle=True, batch_size=10)"
      ],
      "execution_count": 25,
      "outputs": []
    },
    {
      "cell_type": "markdown",
      "metadata": {
        "id": "kF7RtaEPTqgs"
      },
      "source": [
        "# Model Training"
      ]
    },
    {
      "cell_type": "markdown",
      "metadata": {
        "id": "QsKPTgA1c4yV"
      },
      "source": [
        "### DenseNet\n",
        "### Inception"
      ]
    },
    {
      "cell_type": "code",
      "metadata": {
        "id": "CJtkQZgjAE5Y"
      },
      "source": [
        "classes = ['Bm Ant-A', 'Bm Ant-B', 'Bm Ant-Z', 'BlueFM', 'Bp Downsweep', 'Bp 20Hz', 'Bp Higher_calls', 'Unidentified']\n",
        "num_epochs = 100\n",
        "\n",
        "model = models.resnet18(pretrained=False)\n",
        "model.conv1 = nn.Conv2d(\n",
        "    1,\n",
        "    model.conv1.out_channels,\n",
        "    kernel_size=model.conv1.kernel_size[0],\n",
        "    stride=model.conv1.stride[0],\n",
        "    padding=model.conv1.padding[0]\n",
        ")\n",
        "\n",
        "num_ftrs = model.fc.in_features\n",
        "model.fc = nn.Sequential(\n",
        "    nn.Dropout(0.25), \n",
        "    nn.Linear(num_ftrs, len(classes)), \n",
        "    nn.Sigmoid()\n",
        ")\n",
        "model = model.float()"
      ],
      "execution_count": 26,
      "outputs": []
    },
    {
      "cell_type": "code",
      "metadata": {
        "id": "DvMZJxisAEtx"
      },
      "source": [
        "optimizer = optim.AdamW(model.parameters(), lr=1e-4)\n",
        "scheduler = optim.lr_scheduler.StepLR(optimizer, step_size=num_epochs//3, gamma=.1)\n",
        "criterion = nn.BCEWithLogitsLoss()"
      ],
      "execution_count": 27,
      "outputs": []
    },
    {
      "cell_type": "code",
      "metadata": {
        "id": "ogZjD4U2AEq8",
        "colab": {
          "base_uri": "https://localhost:8080/"
        },
        "outputId": "067737c5-e909-4d31-cbb1-57019035304f"
      },
      "source": [
        "device = torch.cuda.current_device() if torch.cuda.is_available() else torch.device('cpu')\n",
        "print('Device: ', device)\n",
        "model.to(device); # remoe ';' to print model architecture"
      ],
      "execution_count": 34,
      "outputs": [
        {
          "output_type": "stream",
          "text": [
            "Device:  0\n"
          ],
          "name": "stdout"
        }
      ]
    },
    {
      "cell_type": "code",
      "metadata": {
        "id": "kYlFbZ44Bb8r"
      },
      "source": [
        "def train(model, epoch):\n",
        "    model.train()\n",
        "\n",
        "    for idx, (data, label) in enumerate(train_loader):\n",
        "        inputs = data.to(device) \n",
        "        label = label.to(device)\n",
        "\n",
        "        optimizer.zero_grad()\n",
        "\n",
        "        outputs = model(inputs.float())\n",
        "        _, predicted = torch.max(outputs, 1)\n",
        "        loss = criterion(outputs, label)\n",
        "        loss.backward()\n",
        "        optimizer.step()\n",
        "\n",
        "        if idx % 10 == 9:\n",
        "            print(f'Train Epoch {epoch} : Iteration {idx}/{len(train_loader)} : Loss {loss.item()}')"
      ],
      "execution_count": 39,
      "outputs": []
    },
    {
      "cell_type": "code",
      "metadata": {
        "id": "YEo9xxYzBb4k",
        "colab": {
          "base_uri": "https://localhost:8080/"
        },
        "outputId": "6e684ffb-2ffa-4363-c07a-b7749e14f293"
      },
      "source": [
        "for e in range(2):\n",
        "    train(model, e)\n",
        "    scheduler.step()"
      ],
      "execution_count": 42,
      "outputs": [
        {
          "output_type": "stream",
          "text": [
            "Train Epoch 0 : Iteration 9/88 : Loss 0.66671014952517\n",
            "Train Epoch 0 : Iteration 19/88 : Loss 0.7018118136697012\n",
            "Train Epoch 0 : Iteration 29/88 : Loss 0.6398916253161588\n",
            "Train Epoch 0 : Iteration 39/88 : Loss 0.7319720721920021\n",
            "Train Epoch 0 : Iteration 49/88 : Loss 0.6958438981269865\n",
            "Train Epoch 0 : Iteration 59/88 : Loss 0.6757784605583765\n",
            "Train Epoch 0 : Iteration 69/88 : Loss 0.7004377240649774\n",
            "Train Epoch 0 : Iteration 79/88 : Loss 0.6560297466456178\n",
            "Train Epoch 1 : Iteration 9/88 : Loss 0.632531382030993\n",
            "Train Epoch 1 : Iteration 19/88 : Loss 0.6943271780188298\n",
            "Train Epoch 1 : Iteration 29/88 : Loss 0.6720672403171193\n",
            "Train Epoch 1 : Iteration 39/88 : Loss 0.6870492106289021\n",
            "Train Epoch 1 : Iteration 49/88 : Loss 0.7112032454113433\n",
            "Train Epoch 1 : Iteration 59/88 : Loss 0.6818929087607103\n",
            "Train Epoch 1 : Iteration 69/88 : Loss 0.6711546786420514\n",
            "Train Epoch 1 : Iteration 79/88 : Loss 0.6761590654110479\n"
          ],
          "name": "stdout"
        }
      ]
    },
    {
      "cell_type": "code",
      "metadata": {
        "id": "YFfpFiXjBbz2",
        "colab": {
          "base_uri": "https://localhost:8080/"
        },
        "outputId": "d210d1ff-ac4a-4000-de54-39e19e5a679a"
      },
      "source": [
        "s = 0\n",
        "for idx, (data, label) in enumerate(test_loader):\n",
        "    inputs = data.to(device) \n",
        "    labels = label\n",
        "\n",
        "    outputs = model(inputs).detach().cpu()\n",
        "    \n",
        "    outputs[outputs > .85] = 1\n",
        "    outputs[np.where(np.logical_and(outputs > .65, outputs <= .85))] = .75\n",
        "    outputs[np.where(np.logical_and(outputs > .35, outputs <= .65))] = .5\n",
        "    outputs[outputs < 0.35] = 0\n",
        "    \n",
        "    s += (outputs == labels).sum() / (len(labels) * len(labels[0])) * 100\n",
        "  \n",
        "print(f'Testing average Accuracy = {s/len(test_loader)}%')  "
      ],
      "execution_count": 43,
      "outputs": [
        {
          "output_type": "stream",
          "text": [
            " Average Accuracy = 77.7272720336914%\n"
          ],
          "name": "stdout"
        }
      ]
    }
  ]
}